{
 "cells": [
  {
   "cell_type": "code",
   "execution_count": 210,
   "metadata": {},
   "outputs": [],
   "source": [
    "import tensorstore as ts\n",
    "import numpy as np\n",
    "import jax\n",
    "import jax.numpy as jnp\n",
    "from chex import Array"
   ]
  },
  {
   "cell_type": "code",
   "execution_count": 94,
   "metadata": {},
   "outputs": [
    {
     "ename": "ValueError",
     "evalue": "Error opening \"zarr\" driver: Error writing \".zarray\" in OCDBT database at local file \"/Users/callum/Mava/tmp/\": Cannot create using specified \"metadata\" and schema: domain must be specified [source locations='tensorstore/driver/zarr/driver.cc:449\\ntensorstore/driver/zarr/driver.cc:449\\ntensorstore/kvstore/kvstore.cc:377\\ntensorstore/driver/driver.cc:109'] [tensorstore_spec='{\\\"context\\\":{\\\"cache_pool\\\":{},\\\"data_copy_concurrency\\\":{},\\\"file_io_concurrency\\\":{},\\\"file_io_sync\\\":true,\\\"ocdbt_coordinator\\\":{}},\\\"create\\\":true,\\\"driver\\\":\\\"zarr\\\",\\\"dtype\\\":\\\"uint32\\\",\\\"kvstore\\\":{\\\"base\\\":{\\\"driver\\\":\\\"file\\\",\\\"path\\\":\\\"/Users/callum/Mava/tmp/\\\"},\\\"driver\\\":\\\"ocdbt\\\"}}']",
     "output_type": "error",
     "traceback": [
      "\u001b[0;31m---------------------------------------------------------------------------\u001b[0m",
      "\u001b[0;31mValueError\u001b[0m                                Traceback (most recent call last)",
      "\u001b[1;32m/Users/callum/mava/tensorstore_playground.ipynb Cell 2\u001b[0m line \u001b[0;36m1\n\u001b[0;32m----> <a href='vscode-notebook-cell:/Users/callum/mava/tensorstore_playground.ipynb#W2sZmlsZQ%3D%3D?line=0'>1</a>\u001b[0m dataset \u001b[39m=\u001b[39m ts\u001b[39m.\u001b[39;49mopen(\n\u001b[1;32m      <a href='vscode-notebook-cell:/Users/callum/mava/tensorstore_playground.ipynb#W2sZmlsZQ%3D%3D?line=1'>2</a>\u001b[0m     {\n\u001b[1;32m      <a href='vscode-notebook-cell:/Users/callum/mava/tensorstore_playground.ipynb#W2sZmlsZQ%3D%3D?line=2'>3</a>\u001b[0m         \u001b[39m'\u001b[39;49m\u001b[39mdriver\u001b[39;49m\u001b[39m'\u001b[39;49m: \u001b[39m'\u001b[39;49m\u001b[39mzarr\u001b[39;49m\u001b[39m'\u001b[39;49m,\n\u001b[1;32m      <a href='vscode-notebook-cell:/Users/callum/mava/tensorstore_playground.ipynb#W2sZmlsZQ%3D%3D?line=3'>4</a>\u001b[0m         \u001b[39m'\u001b[39;49m\u001b[39mkvstore\u001b[39;49m\u001b[39m'\u001b[39;49m: {\n\u001b[1;32m      <a href='vscode-notebook-cell:/Users/callum/mava/tensorstore_playground.ipynb#W2sZmlsZQ%3D%3D?line=4'>5</a>\u001b[0m             \u001b[39m'\u001b[39;49m\u001b[39mdriver\u001b[39;49m\u001b[39m'\u001b[39;49m: \u001b[39m'\u001b[39;49m\u001b[39mocdbt\u001b[39;49m\u001b[39m'\u001b[39;49m,\n\u001b[1;32m      <a href='vscode-notebook-cell:/Users/callum/mava/tensorstore_playground.ipynb#W2sZmlsZQ%3D%3D?line=5'>6</a>\u001b[0m             \u001b[39m'\u001b[39;49m\u001b[39mbase\u001b[39;49m\u001b[39m'\u001b[39;49m: \u001b[39m'\u001b[39;49m\u001b[39mfile:///Users/callum/Mava/tmp\u001b[39;49m\u001b[39m'\u001b[39;49m,\n\u001b[1;32m      <a href='vscode-notebook-cell:/Users/callum/mava/tensorstore_playground.ipynb#W2sZmlsZQ%3D%3D?line=6'>7</a>\u001b[0m             \u001b[39m#'path': 'obs'\u001b[39;49;00m\n\u001b[1;32m      <a href='vscode-notebook-cell:/Users/callum/mava/tensorstore_playground.ipynb#W2sZmlsZQ%3D%3D?line=7'>8</a>\u001b[0m         },\n\u001b[1;32m      <a href='vscode-notebook-cell:/Users/callum/mava/tensorstore_playground.ipynb#W2sZmlsZQ%3D%3D?line=8'>9</a>\u001b[0m         \u001b[39m# 'metadata': {\u001b[39;49;00m\n\u001b[1;32m     <a href='vscode-notebook-cell:/Users/callum/mava/tensorstore_playground.ipynb#W2sZmlsZQ%3D%3D?line=9'>10</a>\u001b[0m         \u001b[39m#     'dtype': '<u2',\u001b[39;49;00m\n\u001b[1;32m     <a href='vscode-notebook-cell:/Users/callum/mava/tensorstore_playground.ipynb#W2sZmlsZQ%3D%3D?line=10'>11</a>\u001b[0m         \u001b[39m#     'shape': [1, 10000],\u001b[39;49;00m\n\u001b[1;32m     <a href='vscode-notebook-cell:/Users/callum/mava/tensorstore_playground.ipynb#W2sZmlsZQ%3D%3D?line=11'>12</a>\u001b[0m         \u001b[39m# },\u001b[39;49;00m\n\u001b[1;32m     <a href='vscode-notebook-cell:/Users/callum/mava/tensorstore_playground.ipynb#W2sZmlsZQ%3D%3D?line=12'>13</a>\u001b[0m     },\n\u001b[1;32m     <a href='vscode-notebook-cell:/Users/callum/mava/tensorstore_playground.ipynb#W2sZmlsZQ%3D%3D?line=13'>14</a>\u001b[0m     dtype\u001b[39m=\u001b[39;49mts\u001b[39m.\u001b[39;49muint32,\n\u001b[1;32m     <a href='vscode-notebook-cell:/Users/callum/mava/tensorstore_playground.ipynb#W2sZmlsZQ%3D%3D?line=14'>15</a>\u001b[0m     \u001b[39m#shape=[100, 100, 100],\u001b[39;49;00m\n\u001b[1;32m     <a href='vscode-notebook-cell:/Users/callum/mava/tensorstore_playground.ipynb#W2sZmlsZQ%3D%3D?line=15'>16</a>\u001b[0m     create\u001b[39m=\u001b[39;49m\u001b[39mTrue\u001b[39;49;00m,\n\u001b[1;32m     <a href='vscode-notebook-cell:/Users/callum/mava/tensorstore_playground.ipynb#W2sZmlsZQ%3D%3D?line=16'>17</a>\u001b[0m )\u001b[39m.\u001b[39;49mresult()\n",
      "\u001b[0;31mValueError\u001b[0m: Error opening \"zarr\" driver: Error writing \".zarray\" in OCDBT database at local file \"/Users/callum/Mava/tmp/\": Cannot create using specified \"metadata\" and schema: domain must be specified [source locations='tensorstore/driver/zarr/driver.cc:449\\ntensorstore/driver/zarr/driver.cc:449\\ntensorstore/kvstore/kvstore.cc:377\\ntensorstore/driver/driver.cc:109'] [tensorstore_spec='{\\\"context\\\":{\\\"cache_pool\\\":{},\\\"data_copy_concurrency\\\":{},\\\"file_io_concurrency\\\":{},\\\"file_io_sync\\\":true,\\\"ocdbt_coordinator\\\":{}},\\\"create\\\":true,\\\"driver\\\":\\\"zarr\\\",\\\"dtype\\\":\\\"uint32\\\",\\\"kvstore\\\":{\\\"base\\\":{\\\"driver\\\":\\\"file\\\",\\\"path\\\":\\\"/Users/callum/Mava/tmp/\\\"},\\\"driver\\\":\\\"ocdbt\\\"}}']"
     ]
    }
   ],
   "source": [
    "dataset = ts.open(\n",
    "    {\n",
    "        'driver': 'zarr',\n",
    "        'kvstore': {\n",
    "            'driver': 'ocdbt',\n",
    "            'base': 'file:///Users/callum/Mava/tmp',\n",
    "            'path': 'obs'\n",
    "        },\n",
    "        # 'metadata': {\n",
    "        #     'dtype': '<u2',\n",
    "        #     'shape': [1, 10000],\n",
    "        # },\n",
    "    },\n",
    "    dtype=ts.uint32,\n",
    "    #shape=[100, 100, 100],\n",
    "    create=True,\n",
    ").result()"
   ]
  },
  {
   "cell_type": "code",
   "execution_count": 76,
   "metadata": {},
   "outputs": [
    {
     "data": {
      "text/plain": [
       "array([0, 0, 0, 0, 0, 0, 0, 0, 0, 0, 0, 0, 0, 0, 0, 0, 0, 0, 0, 0, 0, 0,\n",
       "       0, 0, 0, 0, 0, 0, 0, 0, 0, 0, 0, 0, 0, 0, 0, 0, 0, 0, 0, 0, 0, 0,\n",
       "       0, 0, 0, 0, 0, 0, 0, 0, 0, 0, 0, 0, 0, 0, 0, 0, 0, 0, 0, 0, 0, 0,\n",
       "       0, 0, 0, 0, 0, 0, 0, 0, 0, 0, 0, 0, 0, 0, 0, 0, 0, 0, 0, 0, 0, 0,\n",
       "       0, 0], dtype=uint32)"
      ]
     },
     "execution_count": 76,
     "metadata": {},
     "output_type": "execute_result"
    }
   ],
   "source": [
    "await dataset[10:100,10,10].read()"
   ]
  },
  {
   "cell_type": "code",
   "execution_count": 139,
   "metadata": {},
   "outputs": [],
   "source": [
    "from typing import NamedTuple\n",
    "import flashbax as fbx\n",
    "\n",
    "class Timestep(NamedTuple):\n",
    "    obs: jnp.ndarray\n",
    "    acts: jnp.ndarray\n",
    "    rwds: jnp.ndarray"
   ]
  },
  {
   "cell_type": "code",
   "execution_count": 140,
   "metadata": {},
   "outputs": [
    {
     "name": "stderr",
     "output_type": "stream",
     "text": [
      "/Users/callum/miniconda3/envs/mava/lib/python3.9/site-packages/flashbax/buffers/trajectory_buffer.py:473: UserWarning: Setting max_size dynamically sets the `max_length_time_axis` to be `max_size`//`add_batch_size = 1000000`.This allows one to control exactly how many timesteps are stored in the buffer.Note that this overrides the `max_length_time_axis` argument.\n",
      "  warnings.warn(\n"
     ]
    }
   ],
   "source": [
    "buffer = fbx.make_flat_buffer(\n",
    "    max_length=1_000_000,\n",
    "    min_length=1,\n",
    "    sample_batch_size=1,\n",
    ")"
   ]
  },
  {
   "cell_type": "code",
   "execution_count": 142,
   "metadata": {},
   "outputs": [],
   "source": [
    "state = buffer.init(\n",
    "   Timestep(\n",
    "       obs=jnp.zeros((10, 16), dtype=jnp.float32),\n",
    "       acts=jnp.zeros((10, 32), dtype=jnp.float32),\n",
    "       rwds=jnp.zeros((10, 64), dtype=jnp.float32),\n",
    "   )\n",
    ")"
   ]
  },
  {
   "cell_type": "code",
   "execution_count": 211,
   "metadata": {},
   "outputs": [
    {
     "name": "stdout",
     "output_type": "stream",
     "text": [
      "obs ((1, 1000000, 10, 16), dtype('float32'))\n",
      "acts ((1, 1000000, 10, 32), dtype('float32'))\n",
      "rwds ((1, 1000000, 10, 64), dtype('float32'))\n"
     ]
    },
    {
     "data": {
      "text/plain": [
       "Timestep(obs=None, acts=None, rwds=None)"
      ]
     },
     "execution_count": 211,
     "metadata": {},
     "output_type": "execute_result"
    }
   ],
   "source": [
    "jax.tree_util.tree_map_with_path(lambda path, x: print(path[0].name, (x.shape, x.dtype)), state.experience)"
   ]
  },
  {
   "cell_type": "code",
   "execution_count": 255,
   "metadata": {},
   "outputs": [],
   "source": [
    "import os\n",
    "DRIVER = \"file://\"\n",
    "\n",
    "class Vault:\n",
    "    def __init__(self, base_path: str) -> None:\n",
    "        self.base_path = base_path\n",
    "        if not os.path.isabs(base_path):\n",
    "            self.base_path = os.path.abspath(base_path)\n",
    "\n",
    "    def _get_base_spec(self):\n",
    "        return {\n",
    "            'driver': 'zarr',\n",
    "            'kvstore': {\n",
    "                'driver': 'ocdbt',\n",
    "                'base': f'{DRIVER}{self.base_path}',\n",
    "            },\n",
    "        }\n",
    "    \n",
    "    def _write_leaf(self, name: str, leaf: Array, interval: slice = slice(None)):\n",
    "        spec = self._get_base_spec()\n",
    "        spec['kvstore']['path'] = name\n",
    "        leaf_ds = ts.open(\n",
    "            spec,\n",
    "            dtype=leaf.dtype,\n",
    "            shape=leaf[:, interval, ...].shape,\n",
    "            #create=True,\n",
    "        ).result()\n",
    "        leaf_ds[:, interval, ...].write(leaf).result()\n",
    "\n",
    "    def _read_leaf(self, name: str, interval: slice = slice(None)):\n",
    "        spec = self._get_base_spec()\n",
    "        spec['kvstore']['path'] = name\n",
    "        leaf_ds = ts.open(\n",
    "            spec,\n",
    "        ).result()\n",
    "        return leaf_ds[:, interval, ...].read().result()\n",
    "\n",
    "    def write(self, state, interval: slice = slice(None)):\n",
    "        jax.tree_util.tree_map_with_path(\n",
    "            lambda path, x: self._write_leaf(path[0].name, x, interval),\n",
    "            state.experience,\n",
    "        )\n",
    "\n",
    "    def read(self, interval: slice = slice(None)):\n",
    "        return jax.tree_util.tree_map_with_path(\n",
    "            lambda path, _: self._read_leaf(path[0].name, interval),\n",
    "            state.experience,\n",
    "        )\n"
   ]
  },
  {
   "cell_type": "code",
   "execution_count": 256,
   "metadata": {},
   "outputs": [],
   "source": [
    "v = Vault('vault_test')"
   ]
  },
  {
   "cell_type": "code",
   "execution_count": 257,
   "metadata": {},
   "outputs": [
    {
     "ename": "ValueError",
     "evalue": "Error aligning dimensions: source dimension 1 [0, 1000000) mismatch with target dimension 1 [0, 10) [source locations='tensorstore/index_space/alignment.cc:134\\ntensorstore/index_space/alignment.cc:169\\ntensorstore/driver/write.cc:244']",
     "output_type": "error",
     "traceback": [
      "\u001b[0;31m---------------------------------------------------------------------------\u001b[0m",
      "\u001b[0;31mValueError\u001b[0m                                Traceback (most recent call last)",
      "\u001b[1;32m/Users/callum/mava/tensorstore_playground.ipynb Cell 10\u001b[0m line \u001b[0;36m1\n\u001b[0;32m----> <a href='vscode-notebook-cell:/Users/callum/mava/tensorstore_playground.ipynb#X31sZmlsZQ%3D%3D?line=0'>1</a>\u001b[0m v\u001b[39m.\u001b[39;49mwrite(state, \u001b[39mslice\u001b[39;49m(\u001b[39m0\u001b[39;49m, \u001b[39m10\u001b[39;49m))\n",
      "\u001b[1;32m/Users/callum/mava/tensorstore_playground.ipynb Cell 10\u001b[0m line \u001b[0;36m3\n\u001b[1;32m     <a href='vscode-notebook-cell:/Users/callum/mava/tensorstore_playground.ipynb#X31sZmlsZQ%3D%3D?line=37'>38</a>\u001b[0m \u001b[39mdef\u001b[39;00m \u001b[39mwrite\u001b[39m(\u001b[39mself\u001b[39m, state, interval: \u001b[39mslice\u001b[39m \u001b[39m=\u001b[39m \u001b[39mslice\u001b[39m(\u001b[39mNone\u001b[39;00m)):\n\u001b[0;32m---> <a href='vscode-notebook-cell:/Users/callum/mava/tensorstore_playground.ipynb#X31sZmlsZQ%3D%3D?line=38'>39</a>\u001b[0m     jax\u001b[39m.\u001b[39;49mtree_util\u001b[39m.\u001b[39;49mtree_map_with_path(\n\u001b[1;32m     <a href='vscode-notebook-cell:/Users/callum/mava/tensorstore_playground.ipynb#X31sZmlsZQ%3D%3D?line=39'>40</a>\u001b[0m         \u001b[39mlambda\u001b[39;49;00m path, x: \u001b[39mself\u001b[39;49m\u001b[39m.\u001b[39;49m_write_leaf(path[\u001b[39m0\u001b[39;49m]\u001b[39m.\u001b[39;49mname, x, interval),\n\u001b[1;32m     <a href='vscode-notebook-cell:/Users/callum/mava/tensorstore_playground.ipynb#X31sZmlsZQ%3D%3D?line=40'>41</a>\u001b[0m         state\u001b[39m.\u001b[39;49mexperience,\n\u001b[1;32m     <a href='vscode-notebook-cell:/Users/callum/mava/tensorstore_playground.ipynb#X31sZmlsZQ%3D%3D?line=41'>42</a>\u001b[0m     )\n",
      "File \u001b[0;32m~/miniconda3/envs/mava/lib/python3.9/site-packages/jax/_src/tree_util.py:857\u001b[0m, in \u001b[0;36mtree_map_with_path\u001b[0;34m(f, tree, is_leaf, *rest)\u001b[0m\n\u001b[1;32m    855\u001b[0m keypath_leaves \u001b[39m=\u001b[39m \u001b[39mlist\u001b[39m(\u001b[39mzip\u001b[39m(\u001b[39m*\u001b[39mkeypath_leaves))\n\u001b[1;32m    856\u001b[0m all_keypath_leaves \u001b[39m=\u001b[39m keypath_leaves \u001b[39m+\u001b[39m [treedef\u001b[39m.\u001b[39mflatten_up_to(r) \u001b[39mfor\u001b[39;00m r \u001b[39min\u001b[39;00m rest]\n\u001b[0;32m--> 857\u001b[0m \u001b[39mreturn\u001b[39;00m treedef\u001b[39m.\u001b[39;49munflatten(f(\u001b[39m*\u001b[39;49mxs) \u001b[39mfor\u001b[39;49;00m xs \u001b[39min\u001b[39;49;00m \u001b[39mzip\u001b[39;49m(\u001b[39m*\u001b[39;49mall_keypath_leaves))\n",
      "File \u001b[0;32m~/miniconda3/envs/mava/lib/python3.9/site-packages/jax/_src/tree_util.py:857\u001b[0m, in \u001b[0;36m<genexpr>\u001b[0;34m(.0)\u001b[0m\n\u001b[1;32m    855\u001b[0m keypath_leaves \u001b[39m=\u001b[39m \u001b[39mlist\u001b[39m(\u001b[39mzip\u001b[39m(\u001b[39m*\u001b[39mkeypath_leaves))\n\u001b[1;32m    856\u001b[0m all_keypath_leaves \u001b[39m=\u001b[39m keypath_leaves \u001b[39m+\u001b[39m [treedef\u001b[39m.\u001b[39mflatten_up_to(r) \u001b[39mfor\u001b[39;00m r \u001b[39min\u001b[39;00m rest]\n\u001b[0;32m--> 857\u001b[0m \u001b[39mreturn\u001b[39;00m treedef\u001b[39m.\u001b[39munflatten(f(\u001b[39m*\u001b[39;49mxs) \u001b[39mfor\u001b[39;00m xs \u001b[39min\u001b[39;00m \u001b[39mzip\u001b[39m(\u001b[39m*\u001b[39mall_keypath_leaves))\n",
      "\u001b[1;32m/Users/callum/mava/tensorstore_playground.ipynb Cell 10\u001b[0m line \u001b[0;36m4\n\u001b[1;32m     <a href='vscode-notebook-cell:/Users/callum/mava/tensorstore_playground.ipynb#X31sZmlsZQ%3D%3D?line=37'>38</a>\u001b[0m \u001b[39mdef\u001b[39;00m \u001b[39mwrite\u001b[39m(\u001b[39mself\u001b[39m, state, interval: \u001b[39mslice\u001b[39m \u001b[39m=\u001b[39m \u001b[39mslice\u001b[39m(\u001b[39mNone\u001b[39;00m)):\n\u001b[1;32m     <a href='vscode-notebook-cell:/Users/callum/mava/tensorstore_playground.ipynb#X31sZmlsZQ%3D%3D?line=38'>39</a>\u001b[0m     jax\u001b[39m.\u001b[39mtree_util\u001b[39m.\u001b[39mtree_map_with_path(\n\u001b[0;32m---> <a href='vscode-notebook-cell:/Users/callum/mava/tensorstore_playground.ipynb#X31sZmlsZQ%3D%3D?line=39'>40</a>\u001b[0m         \u001b[39mlambda\u001b[39;00m path, x: \u001b[39mself\u001b[39;49m\u001b[39m.\u001b[39;49m_write_leaf(path[\u001b[39m0\u001b[39;49m]\u001b[39m.\u001b[39;49mname, x, interval),\n\u001b[1;32m     <a href='vscode-notebook-cell:/Users/callum/mava/tensorstore_playground.ipynb#X31sZmlsZQ%3D%3D?line=40'>41</a>\u001b[0m         state\u001b[39m.\u001b[39mexperience,\n\u001b[1;32m     <a href='vscode-notebook-cell:/Users/callum/mava/tensorstore_playground.ipynb#X31sZmlsZQ%3D%3D?line=41'>42</a>\u001b[0m     )\n",
      "\u001b[1;32m/Users/callum/mava/tensorstore_playground.ipynb Cell 10\u001b[0m line \u001b[0;36m2\n\u001b[1;32m     <a href='vscode-notebook-cell:/Users/callum/mava/tensorstore_playground.ipynb#X31sZmlsZQ%3D%3D?line=20'>21</a>\u001b[0m spec[\u001b[39m'\u001b[39m\u001b[39mkvstore\u001b[39m\u001b[39m'\u001b[39m][\u001b[39m'\u001b[39m\u001b[39mpath\u001b[39m\u001b[39m'\u001b[39m] \u001b[39m=\u001b[39m name\n\u001b[1;32m     <a href='vscode-notebook-cell:/Users/callum/mava/tensorstore_playground.ipynb#X31sZmlsZQ%3D%3D?line=21'>22</a>\u001b[0m leaf_ds \u001b[39m=\u001b[39m ts\u001b[39m.\u001b[39mopen(\n\u001b[1;32m     <a href='vscode-notebook-cell:/Users/callum/mava/tensorstore_playground.ipynb#X31sZmlsZQ%3D%3D?line=22'>23</a>\u001b[0m     spec,\n\u001b[1;32m     <a href='vscode-notebook-cell:/Users/callum/mava/tensorstore_playground.ipynb#X31sZmlsZQ%3D%3D?line=23'>24</a>\u001b[0m     dtype\u001b[39m=\u001b[39mleaf\u001b[39m.\u001b[39mdtype,\n\u001b[1;32m     <a href='vscode-notebook-cell:/Users/callum/mava/tensorstore_playground.ipynb#X31sZmlsZQ%3D%3D?line=24'>25</a>\u001b[0m     shape\u001b[39m=\u001b[39mleaf\u001b[39m.\u001b[39mshape,\n\u001b[1;32m     <a href='vscode-notebook-cell:/Users/callum/mava/tensorstore_playground.ipynb#X31sZmlsZQ%3D%3D?line=25'>26</a>\u001b[0m     \u001b[39m#create=True,\u001b[39;00m\n\u001b[1;32m     <a href='vscode-notebook-cell:/Users/callum/mava/tensorstore_playground.ipynb#X31sZmlsZQ%3D%3D?line=26'>27</a>\u001b[0m )\u001b[39m.\u001b[39mresult()\n\u001b[0;32m---> <a href='vscode-notebook-cell:/Users/callum/mava/tensorstore_playground.ipynb#X31sZmlsZQ%3D%3D?line=27'>28</a>\u001b[0m leaf_ds[:, interval, \u001b[39m.\u001b[39;49m\u001b[39m.\u001b[39;49m\u001b[39m.\u001b[39;49m]\u001b[39m.\u001b[39;49mwrite(leaf)\u001b[39m.\u001b[39;49mresult()\n",
      "\u001b[0;31mValueError\u001b[0m: Error aligning dimensions: source dimension 1 [0, 1000000) mismatch with target dimension 1 [0, 10) [source locations='tensorstore/index_space/alignment.cc:134\\ntensorstore/index_space/alignment.cc:169\\ntensorstore/driver/write.cc:244']"
     ]
    }
   ],
   "source": [
    "v.write(state, slice(0, 10))"
   ]
  },
  {
   "cell_type": "code",
   "execution_count": 218,
   "metadata": {},
   "outputs": [],
   "source": [
    "res = v.read()"
   ]
  },
  {
   "cell_type": "code",
   "execution_count": 267,
   "metadata": {},
   "outputs": [
    {
     "ename": "SyntaxError",
     "evalue": "invalid syntax (281763484.py, line 2)",
     "output_type": "error",
     "traceback": [
      "\u001b[0;36m  Cell \u001b[0;32mIn[267], line 2\u001b[0;36m\u001b[0m\n\u001b[0;31m    a = [:, interval, ...]\u001b[0m\n\u001b[0m         ^\u001b[0m\n\u001b[0;31mSyntaxError\u001b[0m\u001b[0;31m:\u001b[0m invalid syntax\n"
     ]
    }
   ],
   "source": [
    "interval = slice(0, 10)"
   ]
  },
  {
   "cell_type": "code",
   "execution_count": 241,
   "metadata": {},
   "outputs": [
    {
     "data": {
      "text/plain": [
       "Timestep(obs=Array([[[[0., 0., 0., 0., 0., 0., 0., 0., 0., 0., 0., 0., 0., 0., 0.,\n",
       "          0.],\n",
       "         [0., 0., 0., 0., 0., 0., 0., 0., 0., 0., 0., 0., 0., 0., 0.,\n",
       "          0.],\n",
       "         [0., 0., 0., 0., 0., 0., 0., 0., 0., 0., 0., 0., 0., 0., 0.,\n",
       "          0.],\n",
       "         [0., 0., 0., 0., 0., 0., 0., 0., 0., 0., 0., 0., 0., 0., 0.,\n",
       "          0.],\n",
       "         [0., 0., 0., 0., 0., 0., 0., 0., 0., 0., 0., 0., 0., 0., 0.,\n",
       "          0.],\n",
       "         [0., 0., 0., 0., 0., 0., 0., 0., 0., 0., 0., 0., 0., 0., 0.,\n",
       "          0.],\n",
       "         [0., 0., 0., 0., 0., 0., 0., 0., 0., 0., 0., 0., 0., 0., 0.,\n",
       "          0.],\n",
       "         [0., 0., 0., 0., 0., 0., 0., 0., 0., 0., 0., 0., 0., 0., 0.,\n",
       "          0.],\n",
       "         [0., 0., 0., 0., 0., 0., 0., 0., 0., 0., 0., 0., 0., 0., 0.,\n",
       "          0.],\n",
       "         [0., 0., 0., 0., 0., 0., 0., 0., 0., 0., 0., 0., 0., 0., 0.,\n",
       "          0.]]]], dtype=float32), acts=Array([[[[0., 0., 0., 0., 0., 0., 0., 0., 0., 0., 0., 0., 0., 0., 0.,\n",
       "          0., 0., 0., 0., 0., 0., 0., 0., 0., 0., 0., 0., 0., 0., 0.,\n",
       "          0., 0.],\n",
       "         [0., 0., 0., 0., 0., 0., 0., 0., 0., 0., 0., 0., 0., 0., 0.,\n",
       "          0., 0., 0., 0., 0., 0., 0., 0., 0., 0., 0., 0., 0., 0., 0.,\n",
       "          0., 0.],\n",
       "         [0., 0., 0., 0., 0., 0., 0., 0., 0., 0., 0., 0., 0., 0., 0.,\n",
       "          0., 0., 0., 0., 0., 0., 0., 0., 0., 0., 0., 0., 0., 0., 0.,\n",
       "          0., 0.],\n",
       "         [0., 0., 0., 0., 0., 0., 0., 0., 0., 0., 0., 0., 0., 0., 0.,\n",
       "          0., 0., 0., 0., 0., 0., 0., 0., 0., 0., 0., 0., 0., 0., 0.,\n",
       "          0., 0.],\n",
       "         [0., 0., 0., 0., 0., 0., 0., 0., 0., 0., 0., 0., 0., 0., 0.,\n",
       "          0., 0., 0., 0., 0., 0., 0., 0., 0., 0., 0., 0., 0., 0., 0.,\n",
       "          0., 0.],\n",
       "         [0., 0., 0., 0., 0., 0., 0., 0., 0., 0., 0., 0., 0., 0., 0.,\n",
       "          0., 0., 0., 0., 0., 0., 0., 0., 0., 0., 0., 0., 0., 0., 0.,\n",
       "          0., 0.],\n",
       "         [0., 0., 0., 0., 0., 0., 0., 0., 0., 0., 0., 0., 0., 0., 0.,\n",
       "          0., 0., 0., 0., 0., 0., 0., 0., 0., 0., 0., 0., 0., 0., 0.,\n",
       "          0., 0.],\n",
       "         [0., 0., 0., 0., 0., 0., 0., 0., 0., 0., 0., 0., 0., 0., 0.,\n",
       "          0., 0., 0., 0., 0., 0., 0., 0., 0., 0., 0., 0., 0., 0., 0.,\n",
       "          0., 0.],\n",
       "         [0., 0., 0., 0., 0., 0., 0., 0., 0., 0., 0., 0., 0., 0., 0.,\n",
       "          0., 0., 0., 0., 0., 0., 0., 0., 0., 0., 0., 0., 0., 0., 0.,\n",
       "          0., 0.],\n",
       "         [0., 0., 0., 0., 0., 0., 0., 0., 0., 0., 0., 0., 0., 0., 0.,\n",
       "          0., 0., 0., 0., 0., 0., 0., 0., 0., 0., 0., 0., 0., 0., 0.,\n",
       "          0., 0.]]]], dtype=float32), rwds=Array([[[[0., 0., 0., 0., 0., 0., 0., 0., 0., 0., 0., 0., 0., 0., 0.,\n",
       "          0., 0., 0., 0., 0., 0., 0., 0., 0., 0., 0., 0., 0., 0., 0.,\n",
       "          0., 0., 0., 0., 0., 0., 0., 0., 0., 0., 0., 0., 0., 0., 0.,\n",
       "          0., 0., 0., 0., 0., 0., 0., 0., 0., 0., 0., 0., 0., 0., 0.,\n",
       "          0., 0., 0., 0.],\n",
       "         [0., 0., 0., 0., 0., 0., 0., 0., 0., 0., 0., 0., 0., 0., 0.,\n",
       "          0., 0., 0., 0., 0., 0., 0., 0., 0., 0., 0., 0., 0., 0., 0.,\n",
       "          0., 0., 0., 0., 0., 0., 0., 0., 0., 0., 0., 0., 0., 0., 0.,\n",
       "          0., 0., 0., 0., 0., 0., 0., 0., 0., 0., 0., 0., 0., 0., 0.,\n",
       "          0., 0., 0., 0.],\n",
       "         [0., 0., 0., 0., 0., 0., 0., 0., 0., 0., 0., 0., 0., 0., 0.,\n",
       "          0., 0., 0., 0., 0., 0., 0., 0., 0., 0., 0., 0., 0., 0., 0.,\n",
       "          0., 0., 0., 0., 0., 0., 0., 0., 0., 0., 0., 0., 0., 0., 0.,\n",
       "          0., 0., 0., 0., 0., 0., 0., 0., 0., 0., 0., 0., 0., 0., 0.,\n",
       "          0., 0., 0., 0.],\n",
       "         [0., 0., 0., 0., 0., 0., 0., 0., 0., 0., 0., 0., 0., 0., 0.,\n",
       "          0., 0., 0., 0., 0., 0., 0., 0., 0., 0., 0., 0., 0., 0., 0.,\n",
       "          0., 0., 0., 0., 0., 0., 0., 0., 0., 0., 0., 0., 0., 0., 0.,\n",
       "          0., 0., 0., 0., 0., 0., 0., 0., 0., 0., 0., 0., 0., 0., 0.,\n",
       "          0., 0., 0., 0.],\n",
       "         [0., 0., 0., 0., 0., 0., 0., 0., 0., 0., 0., 0., 0., 0., 0.,\n",
       "          0., 0., 0., 0., 0., 0., 0., 0., 0., 0., 0., 0., 0., 0., 0.,\n",
       "          0., 0., 0., 0., 0., 0., 0., 0., 0., 0., 0., 0., 0., 0., 0.,\n",
       "          0., 0., 0., 0., 0., 0., 0., 0., 0., 0., 0., 0., 0., 0., 0.,\n",
       "          0., 0., 0., 0.],\n",
       "         [0., 0., 0., 0., 0., 0., 0., 0., 0., 0., 0., 0., 0., 0., 0.,\n",
       "          0., 0., 0., 0., 0., 0., 0., 0., 0., 0., 0., 0., 0., 0., 0.,\n",
       "          0., 0., 0., 0., 0., 0., 0., 0., 0., 0., 0., 0., 0., 0., 0.,\n",
       "          0., 0., 0., 0., 0., 0., 0., 0., 0., 0., 0., 0., 0., 0., 0.,\n",
       "          0., 0., 0., 0.],\n",
       "         [0., 0., 0., 0., 0., 0., 0., 0., 0., 0., 0., 0., 0., 0., 0.,\n",
       "          0., 0., 0., 0., 0., 0., 0., 0., 0., 0., 0., 0., 0., 0., 0.,\n",
       "          0., 0., 0., 0., 0., 0., 0., 0., 0., 0., 0., 0., 0., 0., 0.,\n",
       "          0., 0., 0., 0., 0., 0., 0., 0., 0., 0., 0., 0., 0., 0., 0.,\n",
       "          0., 0., 0., 0.],\n",
       "         [0., 0., 0., 0., 0., 0., 0., 0., 0., 0., 0., 0., 0., 0., 0.,\n",
       "          0., 0., 0., 0., 0., 0., 0., 0., 0., 0., 0., 0., 0., 0., 0.,\n",
       "          0., 0., 0., 0., 0., 0., 0., 0., 0., 0., 0., 0., 0., 0., 0.,\n",
       "          0., 0., 0., 0., 0., 0., 0., 0., 0., 0., 0., 0., 0., 0., 0.,\n",
       "          0., 0., 0., 0.],\n",
       "         [0., 0., 0., 0., 0., 0., 0., 0., 0., 0., 0., 0., 0., 0., 0.,\n",
       "          0., 0., 0., 0., 0., 0., 0., 0., 0., 0., 0., 0., 0., 0., 0.,\n",
       "          0., 0., 0., 0., 0., 0., 0., 0., 0., 0., 0., 0., 0., 0., 0.,\n",
       "          0., 0., 0., 0., 0., 0., 0., 0., 0., 0., 0., 0., 0., 0., 0.,\n",
       "          0., 0., 0., 0.],\n",
       "         [0., 0., 0., 0., 0., 0., 0., 0., 0., 0., 0., 0., 0., 0., 0.,\n",
       "          0., 0., 0., 0., 0., 0., 0., 0., 0., 0., 0., 0., 0., 0., 0.,\n",
       "          0., 0., 0., 0., 0., 0., 0., 0., 0., 0., 0., 0., 0., 0., 0.,\n",
       "          0., 0., 0., 0., 0., 0., 0., 0., 0., 0., 0., 0., 0., 0., 0.,\n",
       "          0., 0., 0., 0.]]]], dtype=float32))"
      ]
     },
     "execution_count": 241,
     "metadata": {},
     "output_type": "execute_result"
    }
   ],
   "source": [
    "jax.tree_map(lambda x: x[:, 0:1, ...], state.experience)"
   ]
  },
  {
   "cell_type": "code",
   "execution_count": 252,
   "metadata": {},
   "outputs": [],
   "source": [
    "def f(sl):\n",
    "    print(jnp.arange(10)[sl])"
   ]
  },
  {
   "cell_type": "code",
   "execution_count": 254,
   "metadata": {},
   "outputs": [
    {
     "name": "stdout",
     "output_type": "stream",
     "text": [
      "[0 1 2 3 4 5 6 7 8 9]\n"
     ]
    }
   ],
   "source": [
    "f(slice(None))"
   ]
  },
  {
   "cell_type": "code",
   "execution_count": null,
   "metadata": {},
   "outputs": [],
   "source": []
  }
 ],
 "metadata": {
  "kernelspec": {
   "display_name": "mava",
   "language": "python",
   "name": "python3"
  },
  "language_info": {
   "codemirror_mode": {
    "name": "ipython",
    "version": 3
   },
   "file_extension": ".py",
   "mimetype": "text/x-python",
   "name": "python",
   "nbconvert_exporter": "python",
   "pygments_lexer": "ipython3",
   "version": "3.9.18"
  }
 },
 "nbformat": 4,
 "nbformat_minor": 2
}
