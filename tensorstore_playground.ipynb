{
 "cells": [
  {
   "cell_type": "code",
   "execution_count": 1,
   "metadata": {},
   "outputs": [],
   "source": [
    "import tensorstore as ts\n",
    "import numpy as np\n",
    "import jax\n",
    "import jax.numpy as jnp\n",
    "from chex import Array\n",
    "from typing import NamedTuple\n",
    "import flashbax as fbx\n",
    "from flashbax.buffers.trajectory_buffer import TrajectoryBufferState\n",
    "\n",
    "class Timestep(NamedTuple):\n",
    "    obs: Array"
   ]
  },
  {
   "cell_type": "code",
   "execution_count": 4,
   "metadata": {},
   "outputs": [
    {
     "name": "stderr",
     "output_type": "stream",
     "text": [
      "/Users/callum/miniconda3/envs/mava/lib/python3.9/site-packages/flashbax/buffers/trajectory_buffer.py:473: UserWarning: Setting max_size dynamically sets the `max_length_time_axis` to be `max_size`//`add_batch_size = 1000000`.This allows one to control exactly how many timesteps are stored in the buffer.Note that this overrides the `max_length_time_axis` argument.\n",
      "  warnings.warn(\n"
     ]
    }
   ],
   "source": [
    "buffer = fbx.make_flat_buffer(\n",
    "    max_length=1_000_000,\n",
    "    min_length=1,\n",
    "    sample_batch_size=1,\n",
    "    #add_batch_size=2,\n",
    "    add_sequences=True,\n",
    ")"
   ]
  },
  {
   "cell_type": "code",
   "execution_count": 5,
   "metadata": {},
   "outputs": [
    {
     "ename": "NameError",
     "evalue": "name 'state' is not defined",
     "output_type": "error",
     "traceback": [
      "\u001b[0;31m---------------------------------------------------------------------------\u001b[0m",
      "\u001b[0;31mNameError\u001b[0m                                 Traceback (most recent call last)",
      "\u001b[1;32m/Users/callum/mava/tensorstore_playground.ipynb Cell 3\u001b[0m line \u001b[0;36m1\n\u001b[0;32m----> <a href='vscode-notebook-cell:/Users/callum/mava/tensorstore_playground.ipynb#X21sZmlsZQ%3D%3D?line=0'>1</a>\u001b[0m state\u001b[39m.\u001b[39mexperience\u001b[39m.\u001b[39mobs\u001b[39m.\u001b[39mshape\n",
      "\u001b[0;31mNameError\u001b[0m: name 'state' is not defined"
     ]
    }
   ],
   "source": [
    "state.experience.obs.shape"
   ]
  },
  {
   "cell_type": "code",
   "execution_count": 61,
   "metadata": {},
   "outputs": [],
   "source": [
    "state = buffer.init(\n",
    "    Timestep(\n",
    "        obs=jnp.zeros((2, 4), dtype=jnp.float32),\n",
    "    ),\n",
    ")\n",
    "buffer_add = jax.jit(buffer.add, donate_argnums=0)"
   ]
  },
  {
   "cell_type": "code",
   "execution_count": 62,
   "metadata": {},
   "outputs": [
    {
     "data": {
      "text/plain": [
       "Array(0, dtype=int32, weak_type=True)"
      ]
     },
     "execution_count": 62,
     "metadata": {},
     "output_type": "execute_result"
    }
   ],
   "source": [
    "state.current_index"
   ]
  },
  {
   "cell_type": "code",
   "execution_count": 63,
   "metadata": {},
   "outputs": [],
   "source": [
    "state = buffer_add(state, Timestep(\n",
    "    obs=-1 * jnp.arange(160_000, dtype=jnp.float32).reshape((20_000, 2, 4)),\n",
    "))"
   ]
  },
  {
   "cell_type": "code",
   "execution_count": 36,
   "metadata": {},
   "outputs": [],
   "source": [
    "# CURRENT LIMITATIONS / TODO LIST\n",
    "# - Overwriting existing vault -> functionality?\n",
    "# - Only works when state.experience has depth of 1\n",
    "# - Indexing is a bit weird\n",
    "# - Better async stuff\n",
    "\n",
    "import os\n",
    "import json\n",
    "from etils import epath\n",
    "from pprint import pprint\n",
    "DRIVER = \"file://\"\n",
    "METADATA_FILE = \"metadata.json\"\n",
    "\n",
    "class Vault:\n",
    "    def __init__(\n",
    "        self,\n",
    "        base_path: str,\n",
    "        init_fbx_state: TrajectoryBufferState,\n",
    "        metadata: dict = None,\n",
    "        vault_multiplier: int = 1_000,\n",
    "    ) -> None:\n",
    "        # Base path is the root folder for this vault. Must be absolute.\n",
    "        self.base_path = os.path.abspath(base_path)\n",
    "\n",
    "        # We use epath for metadata\n",
    "        metadata_path = epath.Path(os.path.join(self.base_path, METADATA_FILE))\n",
    "\n",
    "        # Check if the vault exists, & either read metadata or create it\n",
    "        base_path_exists = os.path.exists(self.base_path)\n",
    "        if base_path_exists:\n",
    "            self.metadata = json.loads(metadata_path.read_text())\n",
    "        else:\n",
    "            # Create the vault root dir\n",
    "            os.mkdir(self.base_path)\n",
    "            self.metadata = {\n",
    "                'version': 0.0,\n",
    "                'vault_multiplier': vault_multiplier,\n",
    "                'tree_struct': init_fbx_state.experience._fields,\n",
    "                **(metadata or {}),\n",
    "            }\n",
    "            metadata_path.write_text(json.dumps(self.metadata))\n",
    "        pprint(self.metadata)\n",
    "\n",
    "        self.vault_multiplier = vault_multiplier\n",
    "\n",
    "        self.vault_ds = ts.open(\n",
    "            self._get_base_spec('vault_index'),\n",
    "            dtype=jnp.int32,\n",
    "            shape=(1,),\n",
    "            create=not base_path_exists,\n",
    "        ).result()\n",
    "        self.vault_index = self.vault_ds.read().result()[0]\n",
    "\n",
    "        self.all_ds = jax.tree_util.tree_map_with_path(\n",
    "            lambda path, x: self._init_leaf(\n",
    "                name=path[0].name,\n",
    "                leaf=x,\n",
    "                create_checkpoint=not base_path_exists,\n",
    "            ),\n",
    "            init_fbx_state.experience,\n",
    "        )\n",
    "\n",
    "        # TODO\n",
    "        self.old_index = 0\n",
    "\n",
    "\n",
    "    def _get_base_spec(self, name: str):\n",
    "        return {\n",
    "            'driver': 'zarr',\n",
    "            'kvstore': {\n",
    "                'driver': 'ocdbt',\n",
    "                'base': f'{DRIVER}{self.base_path}',\n",
    "                'path': name,\n",
    "            },\n",
    "        }\n",
    "\n",
    "    def _init_leaf(self, name, leaf, create_checkpoint: bool = False):\n",
    "        spec = self._get_base_spec(name)\n",
    "        leaf_ds = ts.open(\n",
    "            spec,\n",
    "            dtype=leaf.dtype if create_checkpoint else None,\n",
    "            shape=(leaf.shape[0], self.vault_multiplier * leaf.shape[1], *leaf.shape[2:]) \\\n",
    "                if create_checkpoint else None,\n",
    "            create=create_checkpoint, # TODO!\n",
    "        ).result()\n",
    "        return leaf_ds\n",
    "    \n",
    "    def _write_leaf(\n",
    "        self,\n",
    "        name: str,\n",
    "        leaf: Array,\n",
    "        time_interval: slice = slice(None)\n",
    "    ):\n",
    "        leaf_ds = getattr(self.all_ds, name)\n",
    "        leaf_ds[:, time_interval, ...].write(leaf[:, time_interval, ...]).result()\n",
    "\n",
    "    def _read_leaf(self, name: str, time_interval: slice = slice(None)):\n",
    "        leaf_ds = getattr(self.all_ds, name)\n",
    "        return leaf_ds[:, time_interval, ...].read().result()\n",
    "\n",
    "    def write(self, state: TrajectoryBufferState, time_interval = None):\n",
    "        new_index = int(state.current_index)\n",
    "        time_interval = slice(self.old_index, new_index) if time_interval is None else time_interval\n",
    "        jax.tree_util.tree_map_with_path(\n",
    "            lambda path, x: self._write_leaf(path[0].name, x, time_interval),\n",
    "            state.experience,\n",
    "        )\n",
    "        self.vault_index += (new_index - self.old_index)\n",
    "        self.vault_ds.write(self.vault_index).result()\n",
    "\n",
    "        self.old_index = new_index\n",
    "\n",
    "    def read(self, time_interval: slice = slice(None)):\n",
    "        return jax.tree_util.tree_map_with_path(\n",
    "            lambda path, _: self._read_leaf(path[0].name, time_interval),\n",
    "            state.experience,\n",
    "        )\n",
    "\n"
   ]
  },
  {
   "cell_type": "code",
   "execution_count": 68,
   "metadata": {},
   "outputs": [
    {
     "name": "stdout",
     "output_type": "stream",
     "text": [
      "{'tree_struct': ['obs'], 'vault_multiplier': 1000, 'version': 0.0}\n"
     ]
    }
   ],
   "source": [
    "v = Vault('demo', state)"
   ]
  },
  {
   "cell_type": "code",
   "execution_count": 69,
   "metadata": {},
   "outputs": [
    {
     "data": {
      "text/plain": [
       "60000"
      ]
     },
     "execution_count": 69,
     "metadata": {},
     "output_type": "execute_result"
    }
   ],
   "source": [
    "v.vault_index"
   ]
  },
  {
   "cell_type": "code",
   "execution_count": 70,
   "metadata": {},
   "outputs": [],
   "source": [
    "v.write(state)"
   ]
  },
  {
   "cell_type": "code",
   "execution_count": 71,
   "metadata": {},
   "outputs": [
    {
     "data": {
      "text/plain": [
       "Timestep(obs=array([[[[-0.0000e+00, -1.0000e+00, -2.0000e+00, -3.0000e+00],\n",
       "         [-4.0000e+00, -5.0000e+00, -6.0000e+00, -7.0000e+00]],\n",
       "\n",
       "        [[-8.0000e+00, -9.0000e+00, -1.0000e+01, -1.1000e+01],\n",
       "         [-1.2000e+01, -1.3000e+01, -1.4000e+01, -1.5000e+01]],\n",
       "\n",
       "        [[-1.6000e+01, -1.7000e+01, -1.8000e+01, -1.9000e+01],\n",
       "         [-2.0000e+01, -2.1000e+01, -2.2000e+01, -2.3000e+01]],\n",
       "\n",
       "        ...,\n",
       "\n",
       "        [[-7.9976e+04, -7.9977e+04, -7.9978e+04, -7.9979e+04],\n",
       "         [-7.9980e+04, -7.9981e+04, -7.9982e+04, -7.9983e+04]],\n",
       "\n",
       "        [[-7.9984e+04, -7.9985e+04, -7.9986e+04, -7.9987e+04],\n",
       "         [-7.9988e+04, -7.9989e+04, -7.9990e+04, -7.9991e+04]],\n",
       "\n",
       "        [[-7.9992e+04, -7.9993e+04, -7.9994e+04, -7.9995e+04],\n",
       "         [-7.9996e+04, -7.9997e+04, -7.9998e+04, -7.9999e+04]]]],\n",
       "      dtype=float32))"
      ]
     },
     "execution_count": 71,
     "metadata": {},
     "output_type": "execute_result"
    }
   ],
   "source": [
    "v.read(slice(0,10000))"
   ]
  },
  {
   "cell_type": "code",
   "execution_count": 7,
   "metadata": {},
   "outputs": [],
   "source": [
    "ds = ts.open(\n",
    "    {\n",
    "        'driver': 'zarr',\n",
    "        'kvstore': {\n",
    "            'driver': 'ocdbt',\n",
    "            'base': f'{DRIVER}{\"/Users/callum/Mava/demo\"}',\n",
    "            'path': 'obs',\n",
    "        },\n",
    "    },\n",
    ").result()"
   ]
  },
  {
   "cell_type": "code",
   "execution_count": 49,
   "metadata": {},
   "outputs": [],
   "source": [
    "aa = {\n",
    "    'driver': 'zarr',\n",
    "    'kvstore': {\n",
    "        'driver': 'ocdbt',\n",
    "        'base': f'{DRIVER}{\"/Users/callum/Mava/demo\"}',\n",
    "        'path': \"obs\",\n",
    "    },\n",
    "}"
   ]
  },
  {
   "cell_type": "code",
   "execution_count": 52,
   "metadata": {},
   "outputs": [],
   "source": [
    "from etils import epath\n",
    "import json\n",
    "\n",
    "path = epath.Path('/Users/callum/Mava/demo/metadata')"
   ]
  },
  {
   "cell_type": "code",
   "execution_count": 53,
   "metadata": {},
   "outputs": [
    {
     "data": {
      "text/plain": [
       "107"
      ]
     },
     "execution_count": 53,
     "metadata": {},
     "output_type": "execute_result"
    }
   ],
   "source": [
    "path.write_text(json.dumps(aa))"
   ]
  },
  {
   "cell_type": "code",
   "execution_count": 56,
   "metadata": {},
   "outputs": [
    {
     "data": {
      "text/plain": [
       "'zarr'"
      ]
     },
     "execution_count": 56,
     "metadata": {},
     "output_type": "execute_result"
    }
   ],
   "source": [
    "json.loads(path.read_text())['driver']"
   ]
  },
  {
   "cell_type": "code",
   "execution_count": 13,
   "metadata": {},
   "outputs": [
    {
     "data": {
      "text/plain": [
       "('obs',)"
      ]
     },
     "execution_count": 13,
     "metadata": {},
     "output_type": "execute_result"
    }
   ],
   "source": [
    "state.experience._fields"
   ]
  },
  {
   "cell_type": "code",
   "execution_count": null,
   "metadata": {},
   "outputs": [],
   "source": []
  }
 ],
 "metadata": {
  "kernelspec": {
   "display_name": "mava",
   "language": "python",
   "name": "python3"
  },
  "language_info": {
   "codemirror_mode": {
    "name": "ipython",
    "version": 3
   },
   "file_extension": ".py",
   "mimetype": "text/x-python",
   "name": "python",
   "nbconvert_exporter": "python",
   "pygments_lexer": "ipython3",
   "version": "3.9.18"
  }
 },
 "nbformat": 4,
 "nbformat_minor": 2
}
