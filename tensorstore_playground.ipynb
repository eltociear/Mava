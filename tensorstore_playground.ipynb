{
 "cells": [
  {
   "cell_type": "code",
   "execution_count": 78,
   "metadata": {},
   "outputs": [],
   "source": [
    "import tensorstore as ts\n",
    "import numpy as np\n",
    "import jax\n",
    "import jax.numpy as jnp\n",
    "from chex import Array\n",
    "from typing import NamedTuple\n",
    "import flashbax as fbx\n",
    "from flashbax.buffers.trajectory_buffer import TrajectoryBufferState\n",
    "\n",
    "class Observation(NamedTuple):\n",
    "    values: Array\n",
    "    mask: Array\n",
    "\n",
    "class Timestep(NamedTuple):\n",
    "    obs: Observation"
   ]
  },
  {
   "cell_type": "code",
   "execution_count": 127,
   "metadata": {},
   "outputs": [
    {
     "name": "stderr",
     "output_type": "stream",
     "text": [
      "/Users/callum/miniconda3/envs/mava/lib/python3.9/site-packages/flashbax/buffers/trajectory_buffer.py:473: UserWarning: Setting max_size dynamically sets the `max_length_time_axis` to be `max_size`//`add_batch_size = 1000000`.This allows one to control exactly how many timesteps are stored in the buffer.Note that this overrides the `max_length_time_axis` argument.\n",
      "  warnings.warn(\n"
     ]
    }
   ],
   "source": [
    "buffer = fbx.make_flat_buffer(\n",
    "    max_length=1_000_000,\n",
    "    min_length=1,\n",
    "    sample_batch_size=1,\n",
    "    #add_batch_size=2,\n",
    "    add_sequences=True,\n",
    ")"
   ]
  },
  {
   "cell_type": "code",
   "execution_count": 128,
   "metadata": {},
   "outputs": [],
   "source": [
    "state = buffer.init(\n",
    "    Timestep(\n",
    "        obs=Observation(\n",
    "            values=jnp.zeros((2, 4), dtype=jnp.float32),\n",
    "            mask=jnp.zeros((2, 4), dtype=jnp.float32),\n",
    "        ),\n",
    "    ),\n",
    ")\n",
    "buffer_add = jax.jit(buffer.add, donate_argnums=0)\n",
    "buffer_sample = jax.jit(buffer.sample)"
   ]
  },
  {
   "cell_type": "code",
   "execution_count": 131,
   "metadata": {},
   "outputs": [],
   "source": [
    "state = buffer_add(state, Timestep(\n",
    "    obs=Observation(\n",
    "        values=jnp.ones((1_000, 2, 4), dtype=jnp.float32),\n",
    "        mask=jnp.ones((1_000, 2, 4), dtype=jnp.float32),\n",
    "    ),\n",
    "))"
   ]
  },
  {
   "cell_type": "code",
   "execution_count": 132,
   "metadata": {},
   "outputs": [
    {
     "data": {
      "text/plain": [
       "Array(2000, dtype=int32, weak_type=True)"
      ]
     },
     "execution_count": 132,
     "metadata": {},
     "output_type": "execute_result"
    }
   ],
   "source": [
    "state.current_index"
   ]
  },
  {
   "cell_type": "code",
   "execution_count": 183,
   "metadata": {},
   "outputs": [],
   "source": [
    "# CURRENT LIMITATIONS / TODO LIST\n",
    "# - Only works when fbx_state.is_full is False (i.e. can't handle wraparound)\n",
    "# - Better async stuff\n",
    "# - Only tested with flat buffers\n",
    "\n",
    "import os\n",
    "import json\n",
    "from etils import epath\n",
    "from typing import Optional\n",
    "from operator import attrgetter\n",
    "DRIVER = \"file://\"\n",
    "METADATA_FILE = \"metadata.json\"\n",
    "\n",
    "def _nested_subattr(path):\n",
    "    return str.join('.', jax.tree_util.tree_map(lambda s: s.name, path))\n",
    "\n",
    "class Vault:\n",
    "    def __init__(\n",
    "        self,\n",
    "        base_path: str,\n",
    "        init_fbx_state: TrajectoryBufferState,\n",
    "        metadata: dict = None,\n",
    "        vault_multiplier: int = 1_000_000,\n",
    "    ) -> None:\n",
    "        # Base path is the root folder for this vault. Must be absolute.\n",
    "        self.base_path = os.path.abspath(base_path)\n",
    "\n",
    "        # We use epath for metadata\n",
    "        metadata_path = epath.Path(os.path.join(self.base_path, METADATA_FILE))\n",
    "\n",
    "        # Check if the vault exists, & either read metadata or create it\n",
    "        base_path_exists = os.path.exists(self.base_path)\n",
    "        if base_path_exists:\n",
    "            self.metadata = json.loads(metadata_path.read_text())\n",
    "        else:\n",
    "            # Create the vault root dir\n",
    "            os.mkdir(self.base_path)\n",
    "            self.metadata = {\n",
    "                'version': 0.0,\n",
    "                'vault_multiplier': vault_multiplier,\n",
    "                'tree_struct': init_fbx_state.experience._fields,\n",
    "                **(metadata or {}),\n",
    "            }\n",
    "            metadata_path.write_text(json.dumps(self.metadata))\n",
    "\n",
    "        self.vault_multiplier = vault_multiplier\n",
    "\n",
    "        self.vault_ds = ts.open(\n",
    "            self._get_base_spec('vault_index'),\n",
    "            dtype=jnp.int32,\n",
    "            shape=(1,),\n",
    "            create=not base_path_exists,\n",
    "        ).result()\n",
    "        self.vault_index = int(self.vault_ds.read().result()[0])\n",
    "\n",
    "        self.all_ds = jax.tree_util.tree_map_with_path(\n",
    "            lambda path, x: self._init_leaf(\n",
    "                name=_nested_subattr(path),\n",
    "                leaf=x,\n",
    "                create_checkpoint=not base_path_exists,\n",
    "            ),\n",
    "            init_fbx_state.experience,\n",
    "        )\n",
    "\n",
    "        self.fbx_sample_experience = jax.tree_map(\n",
    "            lambda x: x[:, 0:1, ...],\n",
    "            init_fbx_state.experience,\n",
    "        )\n",
    "        self.last_received_fbx_index = 0\n",
    "\n",
    "\n",
    "    def _get_base_spec(self, name: str):\n",
    "        return {\n",
    "            'driver': 'zarr',\n",
    "            'kvstore': {\n",
    "                'driver': 'ocdbt',\n",
    "                'base': f'{DRIVER}{self.base_path}',\n",
    "                'path': name,\n",
    "            },\n",
    "        }\n",
    "\n",
    "    def _init_leaf(self, name, leaf, create_checkpoint: bool = False):\n",
    "        spec = self._get_base_spec(name)\n",
    "        leaf_ds = ts.open(\n",
    "            spec,\n",
    "            dtype=leaf.dtype if create_checkpoint else None,\n",
    "            shape=(leaf.shape[0], self.vault_multiplier * leaf.shape[1], *leaf.shape[2:]) \\\n",
    "                if create_checkpoint else None,\n",
    "            create=create_checkpoint,\n",
    "        ).result()\n",
    "        return leaf_ds\n",
    "    \n",
    "    def _write_leaf(\n",
    "        self,\n",
    "        name: str,\n",
    "        leaf: Array,\n",
    "        source_interval: tuple,\n",
    "        dest_interval: tuple,\n",
    "    ):\n",
    "        leaf_ds = attrgetter(name)(self.all_ds)\n",
    "        leaf_ds[:, slice(*dest_interval), ...].write(\n",
    "            leaf[:, slice(*source_interval), ...],\n",
    "        ).result()\n",
    "\n",
    "    def write(\n",
    "        self,\n",
    "        fbx_state: TrajectoryBufferState,\n",
    "        source_interval: tuple = (None, None),\n",
    "        dest_interval: tuple = (None, None),\n",
    "    ):\n",
    "        fbx_current_index = int(fbx_state.current_index)\n",
    "\n",
    "        if source_interval == (None, None):\n",
    "            source_interval = (self.last_received_fbx_index, fbx_current_index)\n",
    "        write_length = source_interval[1] - source_interval[0]\n",
    "        if write_length == 0:\n",
    "            return\n",
    "\n",
    "        if dest_interval == (None, None):\n",
    "            dest_interval = (self.vault_index, self.vault_index + write_length)\n",
    "        \n",
    "        assert (source_interval[1] - source_interval[0]) == (dest_interval[1] - dest_interval[0])\n",
    "\n",
    "        print(f\"Writing {source_interval} from buffer into {dest_interval} in vault\")\n",
    "\n",
    "        jax.tree_util.tree_map_with_path(\n",
    "            lambda path, x: self._write_leaf(\n",
    "                name=_nested_subattr(path),\n",
    "                leaf=x,\n",
    "                source_interval=source_interval,\n",
    "                dest_interval=dest_interval,\n",
    "            ),\n",
    "            fbx_state.experience,\n",
    "        )\n",
    "        self.vault_index += write_length\n",
    "        self.vault_ds.write(self.vault_index).result()\n",
    "\n",
    "        self.last_received_fbx_index = fbx_current_index\n",
    "\n",
    "    def _read_leaf(\n",
    "        self,\n",
    "        name: str,\n",
    "        read_interval: tuple,\n",
    "    ):\n",
    "        leaf_ds = attrgetter(name)(self.all_ds)\n",
    "        return leaf_ds[:, slice(*read_interval), ...].read().result()\n",
    "\n",
    "    def read(self, read_interval: tuple = (None, None)):\n",
    "        if read_interval == (None, None):\n",
    "            read_interval = (0, self.vault_index)\n",
    "\n",
    "        return jax.tree_util.tree_map_with_path(\n",
    "            lambda path, _: self._read_leaf(_nested_subattr(path), read_interval),\n",
    "            self.fbx_sample_experience,\n",
    "        )\n",
    "\n",
    "    def get_buffer(self, size: int, key: Array, starting_index: Optional[int] = None):\n",
    "        assert size <= self.vault_index\n",
    "        if starting_index is None:\n",
    "            starting_index = int(jax.random.randint(\n",
    "                key=key,\n",
    "                shape=(),\n",
    "                minval=0,\n",
    "                maxval=self.vault_index - size,\n",
    "            ))\n",
    "        return TrajectoryBufferState(\n",
    "            experience=self.read((starting_index, starting_index + size)),\n",
    "            current_index=starting_index + size,\n",
    "            is_full=True,\n",
    "        )\n",
    "\n"
   ]
  },
  {
   "cell_type": "code",
   "execution_count": 190,
   "metadata": {},
   "outputs": [],
   "source": [
    "v = Vault('demo', state)"
   ]
  },
  {
   "cell_type": "code",
   "execution_count": 192,
   "metadata": {},
   "outputs": [
    {
     "data": {
      "text/plain": [
       "Timestep(obs=Observation(values=array([[[[1., 1., 1., 1.],\n",
       "         [1., 1., 1., 1.]],\n",
       "\n",
       "        [[1., 1., 1., 1.],\n",
       "         [1., 1., 1., 1.]],\n",
       "\n",
       "        [[1., 1., 1., 1.],\n",
       "         [1., 1., 1., 1.]],\n",
       "\n",
       "        ...,\n",
       "\n",
       "        [[1., 1., 1., 1.],\n",
       "         [1., 1., 1., 1.]],\n",
       "\n",
       "        [[1., 1., 1., 1.],\n",
       "         [1., 1., 1., 1.]],\n",
       "\n",
       "        [[1., 1., 1., 1.],\n",
       "         [1., 1., 1., 1.]]]], dtype=float32), mask=array([[[[1., 1., 1., 1.],\n",
       "         [1., 1., 1., 1.]],\n",
       "\n",
       "        [[1., 1., 1., 1.],\n",
       "         [1., 1., 1., 1.]],\n",
       "\n",
       "        [[1., 1., 1., 1.],\n",
       "         [1., 1., 1., 1.]],\n",
       "\n",
       "        ...,\n",
       "\n",
       "        [[1., 1., 1., 1.],\n",
       "         [1., 1., 1., 1.]],\n",
       "\n",
       "        [[1., 1., 1., 1.],\n",
       "         [1., 1., 1., 1.]],\n",
       "\n",
       "        [[1., 1., 1., 1.],\n",
       "         [1., 1., 1., 1.]]]], dtype=float32)))"
      ]
     },
     "execution_count": 192,
     "metadata": {},
     "output_type": "execute_result"
    }
   ],
   "source": [
    "v.read()"
   ]
  },
  {
   "cell_type": "code",
   "execution_count": 63,
   "metadata": {},
   "outputs": [
    {
     "name": "stdout",
     "output_type": "stream",
     "text": [
      "Writing (840000, 940000) from buffer into (1620000, 1720000) in vault\n"
     ]
    }
   ],
   "source": [
    "state = buffer_add(state, Timestep(\n",
    "    obs=jnp.arange(800_000, dtype=jnp.float32).reshape((100_000, 2, 4)),\n",
    "))\n",
    "v.write(state)"
   ]
  },
  {
   "cell_type": "code",
   "execution_count": 193,
   "metadata": {},
   "outputs": [],
   "source": [
    "loaded_state = v.get_buffer(10, jax.random.PRNGKey(43))"
   ]
  },
  {
   "cell_type": "code",
   "execution_count": 199,
   "metadata": {},
   "outputs": [
    {
     "data": {
      "text/plain": [
       "TransitionSample(experience=ExperiencePair(first=Timestep(obs=Observation(values=Array([[[1., 1., 1., 1.],\n",
       "        [1., 1., 1., 1.]]], dtype=float32), mask=Array([[[1., 1., 1., 1.],\n",
       "        [1., 1., 1., 1.]]], dtype=float32))), second=Timestep(obs=Observation(values=Array([[[1., 1., 1., 1.],\n",
       "        [1., 1., 1., 1.]]], dtype=float32), mask=Array([[[1., 1., 1., 1.],\n",
       "        [1., 1., 1., 1.]]], dtype=float32)))))"
      ]
     },
     "execution_count": 199,
     "metadata": {},
     "output_type": "execute_result"
    }
   ],
   "source": [
    "sample = buffer_sample(loaded_state, jax.random.PRNGKey(32))\n",
    "sample"
   ]
  },
  {
   "cell_type": "code",
   "execution_count": null,
   "metadata": {},
   "outputs": [],
   "source": []
  }
 ],
 "metadata": {
  "kernelspec": {
   "display_name": "mava",
   "language": "python",
   "name": "python3"
  },
  "language_info": {
   "codemirror_mode": {
    "name": "ipython",
    "version": 3
   },
   "file_extension": ".py",
   "mimetype": "text/x-python",
   "name": "python",
   "nbconvert_exporter": "python",
   "pygments_lexer": "ipython3",
   "version": "3.9.18"
  }
 },
 "nbformat": 4,
 "nbformat_minor": 2
}
